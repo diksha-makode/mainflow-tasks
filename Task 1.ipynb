{
 "cells": [
  {
   "cell_type": "code",
   "execution_count": 1,
   "id": "97b1d283",
   "metadata": {},
   "outputs": [
    {
     "name": "stdout",
     "output_type": "stream",
     "text": [
      "Updated List :  [10, 3, 4, 5, 6]\n"
     ]
    }
   ],
   "source": [
    "# Creating a list\n",
    "my_list = [1,2,3,4,5]\n",
    "\n",
    "#Adding an element to the list\n",
    "my_list.append(6)\n",
    "\n",
    "#Removing an element from the list\n",
    "my_list.remove(2)\n",
    "\n",
    "#Modifying an element in the list\n",
    "my_list[0] = 10\n",
    "\n",
    "print(\"Updated List : \",my_list)\n"
   ]
  },
  {
   "cell_type": "code",
   "execution_count": 3,
   "id": "5c9ae6a0",
   "metadata": {},
   "outputs": [
    {
     "name": "stdout",
     "output_type": "stream",
     "text": [
      "Updated Dictionary : {'name': 'john', 'city': 'Mumbai', 'Gender': 'Male'}\n"
     ]
    }
   ],
   "source": [
    "#Creating a Dictionary\n",
    "my_dict = {'name':'john','age':25,'city':'Delhi'}\n",
    "\n",
    "#Adding\n",
    "my_dict['Gender'] = 'Male'\n",
    "\n",
    "#Removing\n",
    "del my_dict['age']\n",
    "\n",
    "#modifing\n",
    "my_dict['city'] = 'Mumbai'\n",
    "\n",
    "print(\"Updated Dictionary :\",my_dict)"
   ]
  },
  {
   "cell_type": "code",
   "execution_count": 4,
   "id": "e0d9f3a3",
   "metadata": {},
   "outputs": [
    {
     "name": "stdout",
     "output_type": "stream",
     "text": [
      "Updated Set : {3, 4, 5, 6, 10}\n"
     ]
    }
   ],
   "source": [
    "#Creating a set\n",
    "my_set = {1,2,3,4,5}\n",
    "\n",
    "#Adding\n",
    "my_set.add(6)\n",
    "\n",
    "#Removing\n",
    "my_set.remove(2)\n",
    "\n",
    "#Modifying\n",
    "my_set.discard(1)\n",
    "my_set.add(10)\n",
    "\n",
    "print(\"Updated Set :\",my_set)"
   ]
  },
  {
   "cell_type": "code",
   "execution_count": null,
   "id": "3aa0bec1",
   "metadata": {},
   "outputs": [],
   "source": []
  }
 ],
 "metadata": {
  "kernelspec": {
   "display_name": "Python 3 (ipykernel)",
   "language": "python",
   "name": "python3"
  },
  "language_info": {
   "codemirror_mode": {
    "name": "ipython",
    "version": 3
   },
   "file_extension": ".py",
   "mimetype": "text/x-python",
   "name": "python",
   "nbconvert_exporter": "python",
   "pygments_lexer": "ipython3",
   "version": "3.10.9"
  }
 },
 "nbformat": 4,
 "nbformat_minor": 5
}
